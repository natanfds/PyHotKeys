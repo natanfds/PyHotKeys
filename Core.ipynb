{
 "cells": [
  {
   "cell_type": "markdown",
   "id": "e68b7107",
   "metadata": {},
   "source": [
    "# Instalations"
   ]
  },
  {
   "cell_type": "code",
   "execution_count": 1,
   "id": "61b3ff62",
   "metadata": {},
   "outputs": [],
   "source": [
    "# !pip install psgtray\n",
    "# !pip install pysimplegui\n",
    "# !pip install keyboard"
   ]
  },
  {
   "cell_type": "markdown",
   "id": "162d6129",
   "metadata": {},
   "source": [
    "# Imports"
   ]
  },
  {
   "cell_type": "code",
   "execution_count": 2,
   "id": "5619c90b",
   "metadata": {},
   "outputs": [],
   "source": [
    "from threading import Thread\n",
    "import PySimpleGUI as sg\n",
    "from psgtray import SystemTray\n",
    "import keyboard\n",
    "from datetime import datetime"
   ]
  },
  {
   "cell_type": "markdown",
   "id": "7659f18b",
   "metadata": {},
   "source": [
    "# Hotkeys"
   ]
  },
  {
   "cell_type": "code",
   "execution_count": 3,
   "id": "18135d0e",
   "metadata": {},
   "outputs": [],
   "source": [
    "def hotkey_exec(window, i):\n",
    "    window.write_event_value('-HOTKEY-', f'{i}')\n",
    "    \n",
    "    \n",
    "def watch_keyboard(window):\n",
    "    for i in range(0,10):\n",
    "        keyboard.add_hotkey(f'ctrl + shift + {i}', hotkey_exec, args =(window, i))\n",
    "\n",
    "def reset_keyboard():\n",
    "    for i in range(0,10):\n",
    "            keyboard.remove_hotkey(f'ctrl + shift + {i}')"
   ]
  },
  {
   "cell_type": "markdown",
   "id": "dadf4bf1",
   "metadata": {},
   "source": [
    "# GUI"
   ]
  },
  {
   "cell_type": "code",
   "execution_count": 4,
   "id": "8e73a59a",
   "metadata": {},
   "outputs": [
    {
     "ename": "TypeError",
     "evalue": "unsupported operand type(s) for -: 'datetime.datetime' and 'float'",
     "output_type": "error",
     "traceback": [
      "\u001b[1;31m---------------------------------------------------------------------------\u001b[0m",
      "\u001b[1;31mTypeError\u001b[0m                                 Traceback (most recent call last)",
      "\u001b[1;32m~\\AppData\\Local\\Temp\\ipykernel_2180\\1152585386.py\u001b[0m in \u001b[0;36m<module>\u001b[1;34m\u001b[0m\n\u001b[0;32m     70\u001b[0m \u001b[1;33m\u001b[0m\u001b[0m\n\u001b[0;32m     71\u001b[0m \u001b[1;32mif\u001b[0m \u001b[0m__name__\u001b[0m \u001b[1;33m==\u001b[0m \u001b[1;34m'__main__'\u001b[0m\u001b[1;33m:\u001b[0m\u001b[1;33m\u001b[0m\u001b[1;33m\u001b[0m\u001b[0m\n\u001b[1;32m---> 72\u001b[1;33m     \u001b[0mmain\u001b[0m\u001b[1;33m(\u001b[0m\u001b[1;33m)\u001b[0m\u001b[1;33m\u001b[0m\u001b[1;33m\u001b[0m\u001b[0m\n\u001b[0m",
      "\u001b[1;32m~\\AppData\\Local\\Temp\\ipykernel_2180\\1152585386.py\u001b[0m in \u001b[0;36mmain\u001b[1;34m()\u001b[0m\n\u001b[0;32m     50\u001b[0m \u001b[1;33m\u001b[0m\u001b[0m\n\u001b[0;32m     51\u001b[0m         \u001b[1;32mif\u001b[0m \u001b[0mevent\u001b[0m \u001b[1;33m==\u001b[0m \u001b[1;34m'-HOTKEY-'\u001b[0m\u001b[1;33m:\u001b[0m\u001b[1;33m\u001b[0m\u001b[1;33m\u001b[0m\u001b[0m\n\u001b[1;32m---> 52\u001b[1;33m             \u001b[0mdiff_last_time\u001b[0m \u001b[1;33m=\u001b[0m \u001b[1;33m(\u001b[0m\u001b[0mdatetime\u001b[0m\u001b[1;33m.\u001b[0m\u001b[0mnow\u001b[0m\u001b[1;33m(\u001b[0m\u001b[1;33m)\u001b[0m \u001b[1;33m-\u001b[0m \u001b[0mtime_last_comand\u001b[0m\u001b[1;33m)\u001b[0m\u001b[1;33m.\u001b[0m\u001b[0mtotal_seconds\u001b[0m\u001b[1;33m(\u001b[0m\u001b[1;33m)\u001b[0m\u001b[1;33m\u001b[0m\u001b[1;33m\u001b[0m\u001b[0m\n\u001b[0m\u001b[0;32m     53\u001b[0m             \u001b[1;32mif\u001b[0m  \u001b[0mdiff_last_time\u001b[0m \u001b[1;33m>\u001b[0m \u001b[1;36m2\u001b[0m\u001b[1;33m:\u001b[0m\u001b[1;33m\u001b[0m\u001b[1;33m\u001b[0m\u001b[0m\n\u001b[0;32m     54\u001b[0m                 \u001b[0mtime_last_comand\u001b[0m \u001b[1;33m=\u001b[0m \u001b[0mdiff_last_time\u001b[0m\u001b[1;33m\u001b[0m\u001b[1;33m\u001b[0m\u001b[0m\n",
      "\u001b[1;31mTypeError\u001b[0m: unsupported operand type(s) for -: 'datetime.datetime' and 'float'"
     ]
    }
   ],
   "source": [
    "# Gerando elemento de cada botão\n",
    "def gen_key_comp(i:int):\n",
    "    i = i + 1 if i < 9 else 0 \n",
    "    return sg.Frame(\n",
    "        f'FUNC + {i}',\n",
    "        [\n",
    "        [sg.T(f'Flavor text of Func {i}', key=f'-{i}-', s=(15,2))], \n",
    "        [sg.Button('Edit', key=f'-EDIT{i}-')]\n",
    "        ]\n",
    "    )\n",
    "\n",
    "# Gerando linhas de botões\n",
    "gen_key_lines = lambda start, end: [gen_key_comp(i) for i in range(start, end)]\n",
    "        \n",
    "\n",
    "\n",
    "def main():\n",
    "    # Estado da aplicação\n",
    "    cur_mode = \"Inativo\"\n",
    "    time_last_comand = datetime(1500, 4, 22, 12, 0, 0) # Iniciando em uma data específica\n",
    "    \n",
    "    \n",
    "    \n",
    "    menu = [f'MODO: {cur_mode}', ['Show Window', 'Hide Window', '---', 'Exit']]\n",
    "    tooltip = lambda x = cur_mode: f'Modo: {x}'\n",
    "\n",
    "    layout = [\n",
    "        gen_key_lines(0,5),\n",
    "        gen_key_lines(5,10),\n",
    "        [sg.Button('Exit')]\n",
    "    ]\n",
    "\n",
    "    window = sg.Window('PyHotKeys', layout, finalize=True, enable_close_attempted_event=True)\n",
    "    \n",
    "    \n",
    "    \n",
    "    watch_keyboard(window)\n",
    "    tray = SystemTray(menu, single_click_events=False, window=window, tooltip=tooltip(), icon=sg.EMOJI_BASE64_HAPPY_JOY)\n",
    "    tray.show_message('PyHotKeys', f'Iniciado, modo no modo: {cur_mode}')\n",
    "    \n",
    "    \n",
    "    while True:\n",
    "        event, values = window.read()\n",
    "\n",
    "        if event == tray.key:\n",
    "            event = values[event]\n",
    "\n",
    "        if event in (sg.WIN_CLOSED, 'Exit'):\n",
    "            break\n",
    "\n",
    "        if event == '-HOTKEY-':\n",
    "            cur_time = datetime.now()\n",
    "            diff_last_time = (datetime.now() - time_last_comand).total_seconds()\n",
    "            if  diff_last_time > 2:\n",
    "                time_last_comand = \n",
    "                tray.show_message('PyHotKeys', values[event])\n",
    "\n",
    "        \n",
    "        if event in ('Show Window', sg.EVENT_SYSTEM_TRAY_ICON_DOUBLE_CLICKED):\n",
    "            window.un_hide()\n",
    "            window.bring_to_front()\n",
    "        elif event in ('Hide Window', sg.WIN_CLOSE_ATTEMPTED_EVENT):\n",
    "            window.hide()\n",
    "            tray.show_icon()\n",
    "        \n",
    "        \n",
    "        \n",
    "    tray.close()            \n",
    "    window.close()\n",
    "    reset_keyboard()\n",
    "    \n",
    "if __name__ == '__main__':\n",
    "    main()"
   ]
  },
  {
   "cell_type": "code",
   "execution_count": null,
   "id": "b185c96d",
   "metadata": {},
   "outputs": [],
   "source": []
  },
  {
   "cell_type": "code",
   "execution_count": null,
   "id": "90c02b62",
   "metadata": {},
   "outputs": [],
   "source": []
  },
  {
   "cell_type": "code",
   "execution_count": null,
   "id": "0df6184f",
   "metadata": {},
   "outputs": [],
   "source": []
  },
  {
   "cell_type": "code",
   "execution_count": null,
   "id": "1709d30c",
   "metadata": {},
   "outputs": [],
   "source": []
  },
  {
   "cell_type": "code",
   "execution_count": null,
   "id": "8f45221f",
   "metadata": {},
   "outputs": [],
   "source": []
  },
  {
   "cell_type": "code",
   "execution_count": null,
   "id": "ed81f990",
   "metadata": {},
   "outputs": [],
   "source": []
  }
 ],
 "metadata": {
  "kernelspec": {
   "display_name": "Python 3 (ipykernel)",
   "language": "python",
   "name": "python3"
  },
  "language_info": {
   "codemirror_mode": {
    "name": "ipython",
    "version": 3
   },
   "file_extension": ".py",
   "mimetype": "text/x-python",
   "name": "python",
   "nbconvert_exporter": "python",
   "pygments_lexer": "ipython3",
   "version": "3.9.13"
  }
 },
 "nbformat": 4,
 "nbformat_minor": 5
}
