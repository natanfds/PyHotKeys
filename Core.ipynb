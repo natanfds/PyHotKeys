{
 "cells": [
  {
   "cell_type": "markdown",
   "id": "e68b7107",
   "metadata": {},
   "source": [
    "# Instalations"
   ]
  },
  {
   "cell_type": "code",
   "execution_count": 1,
   "id": "61b3ff62",
   "metadata": {},
   "outputs": [],
   "source": [
    "# !pip install psgtray\n",
    "# !pip install pysimplegui\n",
    "# !pip install keyboard"
   ]
  },
  {
   "cell_type": "markdown",
   "id": "162d6129",
   "metadata": {},
   "source": [
    "# Imports"
   ]
  },
  {
   "cell_type": "code",
   "execution_count": 2,
   "id": "5619c90b",
   "metadata": {},
   "outputs": [],
   "source": [
    "from threading import Thread\n",
    "import PySimpleGUI as sg\n",
    "from psgtray import SystemTray\n",
    "import keyboard\n",
    "from datetime import datetime"
   ]
  },
  {
   "cell_type": "markdown",
   "id": "7659f18b",
   "metadata": {},
   "source": [
    "# Hotkeys"
   ]
  },
  {
   "cell_type": "code",
   "execution_count": 3,
   "id": "18135d0e",
   "metadata": {},
   "outputs": [],
   "source": [
    "def hotkey_exec(window, i):\n",
    "    window.write_event_value('-HOTKEY-', f'{i}')\n",
    "    \n",
    "def watch_keyboard(window):\n",
    "    for i in range(0,10):\n",
    "        keyboard.add_hotkey(f'ctrl + shift + {i}', hotkey_exec, args =(window, i))\n",
    "\n",
    "def reset_keyboard():\n",
    "    for i in range(0,10):\n",
    "            keyboard.remove_hotkey(f'ctrl + shift + {i}')"
   ]
  },
  {
   "cell_type": "markdown",
   "id": "730a8947",
   "metadata": {},
   "source": [
    "# Snippets Func"
   ]
  },
  {
   "cell_type": "code",
   "execution_count": 4,
   "id": "a4e1d696",
   "metadata": {},
   "outputs": [],
   "source": [
    "add_snippet = lambda key, text: keyboard.add_abbreviation(key, text)\n",
    "rm_snippet = lambda key: keyboard.remove_abbreviation(e)"
   ]
  },
  {
   "cell_type": "markdown",
   "id": "e04d2c22",
   "metadata": {},
   "source": [
    "# Actions"
   ]
  },
  {
   "cell_type": "code",
   "execution_count": 5,
   "id": "51d90c37",
   "metadata": {},
   "outputs": [],
   "source": [
    "def exec_script(script:str):\n",
    "    pass\n",
    "\n",
    "def exec_hotkeys(keys:str):\n",
    "    pass\n",
    "\n",
    "def exec_system_termina(cmd:str):\n",
    "    pass\n",
    "\n",
    "def activate_snippets():\n",
    "    pass\n",
    "\n",
    "def deactivate_snippets():\n",
    "    pass\n",
    "\n"
   ]
  },
  {
   "cell_type": "markdown",
   "id": "f46e7211",
   "metadata": {},
   "source": [
    "# Mode"
   ]
  },
  {
   "cell_type": "code",
   "execution_count": 6,
   "id": "3e0f58fa",
   "metadata": {},
   "outputs": [],
   "source": [
    "class Mode(object):\n",
    "    def __init__(self, \n",
    "                 name:str\n",
    "                ):\n",
    "        self.__name = name\n",
    "\n",
    "    def __str__(self):\n",
    "        return self.__name\n"
   ]
  },
  {
   "cell_type": "markdown",
   "id": "dadf4bf1",
   "metadata": {},
   "source": [
    "# GUI"
   ]
  },
  {
   "cell_type": "code",
   "execution_count": 14,
   "id": "8e73a59a",
   "metadata": {},
   "outputs": [],
   "source": [
    "# Gerando elemento de cada botão\n",
    "def gen_key_comp(i:int):\n",
    "    i = i + 1 if i < 9 else 0 \n",
    "    return sg.Frame(\n",
    "        f'FUNC-{i}',\n",
    "        [\n",
    "        [sg.T(f'Flavor text of Func {i}', key=f'-DESCRIPTION{i}-', s=(15,2))],\n",
    "        [sg.Image(sg.EMOJI_BASE64_HAPPY_THUMBS_UP, size=(100, 100), key=f'-THUMB-{i}')],\n",
    "        [sg.Button('Edit', key=f'-EDIT{i}-', expand_x=True)]\n",
    "        ]\n",
    "    )\n",
    "\n",
    "# Gerando linhas de botões\n",
    "gen_key_lines = lambda start, end: [gen_key_comp(i) for i in range(start, end)]\n",
    "        \n",
    "\n",
    "\n",
    "def main():\n",
    "    \n",
    "    all_modes = ['Inativo', 'Stream Deck', 'Rodrigo Faro', 'Devil Man']\n",
    "    \n",
    "    # Estado da aplicação\n",
    "    cur_mode = 0\n",
    "    selected_mode = 0\n",
    "    in_selection = False\n",
    "    time_last_comand = datetime.now() # Iniciando em uma data específica\n",
    "    \n",
    "    \n",
    "    menu = [f'MODO: {cur_mode}', ['Show Window', 'Hide Window', '---', 'Exit']]\n",
    "    tooltip = lambda x = cur_mode: f'Modo: {x}'\n",
    "\n",
    "    layout = [\n",
    "        gen_key_lines(0,5),\n",
    "        gen_key_lines(5,10),\n",
    "        [sg.Button('Exit', expand_x=True)]\n",
    "    ]\n",
    "\n",
    "    window = sg.Window('PyHotKeys', layout, finalize=True, enable_close_attempted_event=True)\n",
    "    watch_keyboard(window)\n",
    "    tray = SystemTray(menu, single_click_events=False, window=window, tooltip=tooltip(), icon=sg.EMOJI_BASE64_HAPPY_JOY)\n",
    "    \n",
    "    \n",
    "    def show_message(text:str):\n",
    "        nonlocal tray \n",
    "        tray.show_message('PyHotKeys', text)\n",
    "        \n",
    "        \n",
    "    def mode_navigate(add:bool):\n",
    "        nonlocal all_modes, cur_mode, selected_mode\n",
    "        len_modes = len(all_modes)\n",
    "        \n",
    "        selected_mode = selected_mode + 1 if add else selected_mode + 1\n",
    "        selected_mode = 0  if len_modes < selected_mode + 1 else selected_mode\n",
    "        selected_mode = len_modes - 1  if selected_mode < 0 else selected_mode\n",
    "        \n",
    "        \n",
    "        show_message(f\"ATUAL: {all_modes[cur_mode]}\\nSELECIONADO: {all_modes[selected_mode]}\")\n",
    "    \n",
    "    \n",
    "    show_message(f'Iniciado, modo no modo: {cur_mode}')\n",
    "        \n",
    "    \n",
    "    while True:\n",
    "        event, values = window.read()\n",
    "\n",
    "        if event == tray.key:\n",
    "            event = values[event]\n",
    "        if event in (sg.WIN_CLOSED, 'Exit'):\n",
    "            break\n",
    "        if event == '-HOTKEY-':\n",
    "            cur_time = datetime.now()\n",
    "            diff_last_time = (cur_time - time_last_comand).total_seconds()\n",
    "            if  diff_last_time > 1: # Bloqueando comandos com menos de 1 segundo de tempo\n",
    "                time_last_comand = cur_time\n",
    "                \n",
    "                \n",
    "                if values[event] == '0':\n",
    "                    if in_selection:\n",
    "                        in_selection = False\n",
    "                        cur_mode = selected_mode\n",
    "                        show_message(f\"Selecionado modo: {all_modes[cur_mode]}\")\n",
    "                        \n",
    "                    else:\n",
    "                        in_selection = True\n",
    "                        show_message(f\"Entrando em modo de seleção.\\nAtualmente em: {all_modes[cur_mode]}\")\n",
    "\n",
    "                \n",
    "                if values[event] == '8':\n",
    "                    if in_selection == True:\n",
    "                        mode_navigate(False)\n",
    "                    \n",
    "                if values[event] == '9':\n",
    "                    if in_selection == True:\n",
    "                        mode_navigate(True)\n",
    "                        \n",
    "        \n",
    "        if event in ('Show Window', sg.EVENT_SYSTEM_TRAY_ICON_DOUBLE_CLICKED):\n",
    "            window.un_hide()\n",
    "            window.bring_to_front()\n",
    "        elif event in ('Hide Window', sg.WIN_CLOSE_ATTEMPTED_EVENT):\n",
    "            window.hide()\n",
    "            tray.show_icon()\n",
    "        \n",
    "\n",
    "    tray.close()            \n",
    "    window.close()\n",
    "    reset_keyboard()\n",
    "    \n",
    "if __name__ == '__main__':\n",
    "    main()"
   ]
  },
  {
   "cell_type": "code",
   "execution_count": 10,
   "id": "48fd6035",
   "metadata": {},
   "outputs": [
    {
     "data": {
      "text/plain": [
       "2"
      ]
     },
     "execution_count": 10,
     "metadata": {},
     "output_type": "execute_result"
    }
   ],
   "source": []
  },
  {
   "cell_type": "code",
   "execution_count": null,
   "id": "7e089831",
   "metadata": {},
   "outputs": [],
   "source": []
  }
 ],
 "metadata": {
  "kernelspec": {
   "display_name": "Python 3 (ipykernel)",
   "language": "python",
   "name": "python3"
  },
  "language_info": {
   "codemirror_mode": {
    "name": "ipython",
    "version": 3
   },
   "file_extension": ".py",
   "mimetype": "text/x-python",
   "name": "python",
   "nbconvert_exporter": "python",
   "pygments_lexer": "ipython3",
   "version": "3.9.13"
  }
 },
 "nbformat": 4,
 "nbformat_minor": 5
}
